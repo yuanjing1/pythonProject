{
 "cells": [
  {
   "cell_type": "code",
   "execution_count": 1,
   "id": "ba6da0b5",
   "metadata": {},
   "outputs": [],
   "source": [
    "def _MA_screen(symbol, df, x):\n",
    "    df['SMA'] = round(df['Adj Close'].rolling(window=x).mean(), 2)  # Simple Moving Average\n",
    "    # TEMA triple exponential moving average | EMA Exponential Moving Average\n",
    "    df['EMA1'] = round(df['Adj Close'].ewm(span=x, adjust=False).mean(), 2)\n",
    "    df['EMA2'] = round(df['EMA1'].ewm(span=x, adjust=False).mean(), 2)\n",
    "    df['EMA3'] = round(df['EMA2'].ewm(span=x, adjust=False).mean(), 2)\n",
    "    df['TEMA'] = 3 * (df['EMA1'] - df['EMA2']) + df['EMA3']\n",
    "\n",
    "    # up/down from previous 2 days\n",
    "    df['SMA_2'] = df.SMA.shift(2)\n",
    "    df['TEMA_2'] = df.TEMA.shift(2)\n",
    "    df['SMA_up'] = df.apply(lambda x: '+' if x['SMA'] >= x['SMA_2'] else '-', axis=1)\n",
    "    df['TEMA_up'] = df.apply(lambda x: '+' if x['TEMA'] >= x['TEMA_2'] else '-', axis=1)\n",
    "\n",
    "    # reverse up/down\n",
    "    df['SMA_up_1'] = df.SMA_up.shift(1)\n",
    "    df['TEMA_up_1'] = df.TEMA_up.shift(1)\n",
    "    df = df.dropna(subset=['SMA', 'SMA_2', 'TEMA', 'TEMA_2', 'SMA_up_1', 'TEMA_up_1'])\n",
    "    df['SMA_up_rev'] = df.apply(lambda x: x['SMA_up'] if x['SMA_up'] != x['SMA_up_1'] else '', axis=1)\n",
    "    df['TEMA_up_rev'] = df.apply(lambda x: x['TEMA_up'] if x['TEMA_up'] != x['TEMA_up_1'] else '', axis=1)\n",
    "\n",
    "    SMA_seq = ''\n",
    "    TEMA_seq = ''\n",
    "    seq = 0\n",
    "    for i in df.index[::-1]:  # look backwards\n",
    "        seq += 1\n",
    "        if bool(SMA_seq) & bool(TEMA_seq):\n",
    "            break\n",
    "        if (not SMA_seq) & bool(df['SMA_up_rev'][i]):\n",
    "            SMA_seq = df['SMA_up_rev'][i] + str(seq)\n",
    "        if (not TEMA_seq) & bool(df['TEMA_up_rev'][i]):\n",
    "            TEMA_seq = df['TEMA_up_rev'][i] + str(seq)\n",
    "    return [symbol, TEMA_seq, SMA_seq]\n"
   ]
  },
  {
   "cell_type": "code",
   "execution_count": 2,
   "id": "f3eac826",
   "metadata": {},
   "outputs": [],
   "source": [
    "def _MA_screen_list(stockList, x, filename):\n",
    "    stockList = list(set(stockList))  # make elements unique\n",
    "    stockList = sorted(stockList)\n",
    "    rows = []\n",
    "    for symbol in stockList:\n",
    "        try:\n",
    "            with contextlib.redirect_stdout(io.StringIO()):\n",
    "                df_yh = yf.download(symbol, period='120d')\n",
    "            row = _MA_screen(symbol, df_yh, x)\n",
    "            rows.append(row)\n",
    "        except Exception:\n",
    "            print(symbol)\n",
    "    out_df = pd.DataFrame(rows, columns=['symbol', 'TEMA_seq', 'SMA_seq'])\n",
    "\n",
    "    out_df.TEMA_seq = out_df.TEMA_seq.astype(float)\n",
    "    out_df.SMA_seq = out_df.SMA_seq.astype(float)\n",
    "    out_df = out_df.sort_values(by=['TEMA_seq', 'SMA_seq'], ascending=False)\n",
    "\n",
    "    print(out_df)\n",
    "    out_df.to_csv(DIR + filename, index=False)"
   ]
  },
  {
   "cell_type": "code",
   "execution_count": 3,
   "id": "3ef21258",
   "metadata": {},
   "outputs": [],
   "source": [
    "def _MA_screen_list_h(stockList, x, filename):\n",
    "    stockList = list(set(stockList))  # make elements unique\n",
    "    stockList = sorted(stockList)\n",
    "    rows = []\n",
    "    for symbol in stockList:\n",
    "        try:\n",
    "            with contextlib.redirect_stdout(io.StringIO()):\n",
    "                df_yh = yf.download(symbol, period=\"20d\", interval=\"1h\")\n",
    "            row = _MA_screen(symbol, df_yh, x)\n",
    "            rows.append(row)\n",
    "        except Exception:\n",
    "            print(symbol)\n",
    "    out_df = pd.DataFrame(rows, columns=['symbol', 'TEMA_seq', 'SMA_seq'])\n",
    "\n",
    "    out_df.TEMA_seq = out_df.TEMA_seq.astype(float)\n",
    "    out_df.SMA_seq = out_df.SMA_seq.astype(float)\n",
    "    out_df = out_df.sort_values(by=['TEMA_seq', 'SMA_seq'], ascending=False)\n",
    "\n",
    "    print(out_df)\n",
    "    out_df.to_csv(DIR + filename, index=False)"
   ]
  },
  {
   "cell_type": "code",
   "execution_count": 15,
   "id": "9e9f4057",
   "metadata": {},
   "outputs": [
    {
     "name": "stdout",
     "output_type": "stream",
     "text": [
      "   symbol  TEMA_seq  SMA_seq\n",
      "9      JD       7.0     33.0\n",
      "19     XL       7.0    -41.0\n",
      "20   XPEV       6.0    -67.0\n",
      "8     INO       2.0    -22.0\n",
      "0     AMC       2.0    -27.0\n",
      "10    NIO       1.0    -18.0\n",
      "17   SUNW       1.0    -21.0\n",
      "3    BIGC       1.0    -27.0\n",
      "14   PLUG       1.0    -68.0\n",
      "11   NNOX      -4.0    -18.0\n",
      "5     BTX      -9.0    -76.0\n",
      "15   SOXL     -12.0     -7.0\n",
      "12   NVDA     -17.0    -12.0\n",
      "1     AMD     -17.0    -13.0\n",
      "18   TSLA     -18.0     -8.0\n",
      "2    ASTS     -19.0    -12.0\n",
      "7    CCIV     -20.0    -14.0\n",
      "4    BLDP     -21.0    -20.0\n",
      "6    BYND     -21.0    -68.0\n",
      "13   PLTR     -24.0    -21.0\n",
      "16   SPCE     -30.0    -27.0\n"
     ]
    }
   ],
   "source": [
    "# C reverse up +1: buy to close C\n",
    "import contextlib\n",
    "import io\n",
    "\n",
    "import pandas as pd\n",
    "import yfinance as yf\n",
    "\n",
    "yf.pdr_override()\n",
    "pd.options.mode.chained_assignment = None  # default='warn'\n",
    "\n",
    "x = 20\n",
    "DIR = 'E:\\Google Drive\\data'\n",
    "\n",
    "df = pd.read_csv(DIR + '\\out_fidelity.csv')\n",
    "df = df[(df['Option'] == 'C')]\n",
    "stockList = df['Ticker'].tolist()\n",
    "\n",
    "_MA_screen_list_h(stockList, x, '\\out_Python_MA_C.csv')\n"
   ]
  },
  {
   "cell_type": "code",
   "execution_count": 13,
   "id": "5269507c",
   "metadata": {},
   "outputs": [
    {
     "name": "stdout",
     "output_type": "stream",
     "text": [
      "   symbol  TEMA_seq  SMA_seq\n",
      "33    TZA      18.0     12.0\n",
      "23   NUGT      11.0     18.0\n",
      "29    RKT       6.0    -25.0\n",
      "18    JPM       5.0    -10.0\n",
      "26     QS       5.0    -67.0\n",
      "17     JD       4.0     30.0\n",
      "14   DOOR       4.0    -12.0\n",
      "12    DIS       3.0     32.0\n",
      "28     RF       3.0    -10.0\n",
      "1     AMC       3.0    -24.0\n",
      "20     LC      -1.0    -13.0\n",
      "6    BTWN      -1.0    -18.0\n",
      "25   PLUG      -2.0    -65.0\n",
      "30   ROOT      -2.0    -67.0\n",
      "9      CI      -4.0     -3.0\n",
      "4    ATSG      -6.0     -4.0\n",
      "7     BTX      -6.0    -73.0\n",
      "27   RAAS      -9.0    -58.0\n",
      "16   INTC     -10.0     -4.0\n",
      "22   NCTY     -10.0    -16.0\n",
      "2     API     -11.0    -10.0\n",
      "11   CRON     -12.0    -10.0\n",
      "35   UBER     -12.0    -11.0\n",
      "32   TLRY     -13.0     -9.0\n",
      "19   LAZR     -14.0    -12.0\n",
      "13  DISCA     -15.0    -10.0\n",
      "3    ASTS     -16.0     -9.0\n",
      "8     CAT     -18.0    -11.0\n",
      "5    BLDP     -18.0    -17.0\n",
      "34    UAL     -18.0    -18.0\n",
      "21    LVS     -19.0    -12.0\n",
      "15   FCEL     -19.0    -18.0\n",
      "24   PLTR     -21.0    -18.0\n",
      "0    ABNB     -24.0    -12.0\n",
      "10   COIN     -24.0    -12.0\n",
      "31   SPCE     -27.0    -24.0\n"
     ]
    }
   ],
   "source": [
    "# P C2 reverse dn -1: buy to close P or sell C\n",
    "df = pd.read_csv('E:\\Google Drive\\data\\out_fidelity.csv')\n",
    "df = df[(df['Option'] == 'P') | df['C2'].notnull()]\n",
    "stockList = df['Ticker'].tolist()\n",
    "\n",
    "_MA_screen_list_h(stockList, x, '\\out_Python_MA_P.csv')"
   ]
  },
  {
   "cell_type": "code",
   "execution_count": 70,
   "id": "6164c063",
   "metadata": {},
   "outputs": [],
   "source": [
    "def _pickUpDn(limitDay, filename):\n",
    "    out_df = pd.read_csv(DIR + filename)\n",
    "    today = dt.datetime.now().strftime('%d')\n",
    "    upList = out_df[(0 <= out_df['TEMA_seq']) & (out_df['TEMA_seq'] <= limitDay)]  # & (out_df['SMA_seq'] < -9)\n",
    "    print(upList)\n",
    "    upList['symbol'].to_csv('..\\data\\out_PythonRevUp' + today + '.txt', index=False, header=False)\n",
    "\n",
    "    dnList = out_df[(-limitDay <= out_df['TEMA_seq']) & (out_df['TEMA_seq'] <= 0)]  # & (out_df['SMA_seq'] > 9)\n",
    "    print(dnList)\n",
    "    dnList['symbol'].to_csv('..\\data\\out_PythonRevDn' + today + '.txt', index=False, header=False)\n"
   ]
  },
  {
   "cell_type": "code",
   "execution_count": 71,
   "id": "77c67725",
   "metadata": {},
   "outputs": [
    {
     "name": "stdout",
     "output_type": "stream",
     "text": [
      "AAPL\n",
      "ABBV\n",
      "ABNB\n",
      "ACB\n",
      "ADBE\n",
      "AFRM\n",
      "AIZ\n",
      "ALK\n",
      "AMC\n",
      "AMD\n",
      "AMT\n",
      "AMZN\n",
      "API\n",
      "ARE\n",
      "ARKF\n",
      "ARKG\n"
     ]
    },
    {
     "ename": "KeyboardInterrupt",
     "evalue": "",
     "output_type": "error",
     "traceback": [
      "\u001b[1;31m---------------------------------------------------------------------------\u001b[0m",
      "\u001b[1;31mKeyboardInterrupt\u001b[0m                         Traceback (most recent call last)",
      "\u001b[1;32m<ipython-input-71-fbf088612ce7>\u001b[0m in \u001b[0;36m<module>\u001b[1;34m\u001b[0m\n\u001b[0;32m      8\u001b[0m \u001b[1;33m\u001b[0m\u001b[0m\n\u001b[0;32m      9\u001b[0m \u001b[0mfilename\u001b[0m \u001b[1;33m=\u001b[0m \u001b[1;34m'\\out_Python_MA.csv'\u001b[0m\u001b[1;33m\u001b[0m\u001b[1;33m\u001b[0m\u001b[0m\n\u001b[1;32m---> 10\u001b[1;33m \u001b[0m_MA_screen_list\u001b[0m\u001b[1;33m(\u001b[0m\u001b[0mstockList\u001b[0m\u001b[1;33m,\u001b[0m \u001b[0mx\u001b[0m\u001b[1;33m,\u001b[0m \u001b[0mfilename\u001b[0m\u001b[1;33m)\u001b[0m\u001b[1;33m\u001b[0m\u001b[1;33m\u001b[0m\u001b[0m\n\u001b[0m\u001b[0;32m     11\u001b[0m \u001b[0m_pickUpDn\u001b[0m\u001b[1;33m(\u001b[0m\u001b[0mlimitDay\u001b[0m\u001b[1;33m,\u001b[0m \u001b[0mfilename\u001b[0m\u001b[1;33m)\u001b[0m\u001b[1;33m\u001b[0m\u001b[1;33m\u001b[0m\u001b[0m\n",
      "\u001b[1;32m<ipython-input-66-2fbfa822da76>\u001b[0m in \u001b[0;36m_MA_screen_list\u001b[1;34m(stockList, x, filename)\u001b[0m\n\u001b[0;32m      6\u001b[0m         \u001b[1;32mtry\u001b[0m\u001b[1;33m:\u001b[0m\u001b[1;33m\u001b[0m\u001b[1;33m\u001b[0m\u001b[0m\n\u001b[0;32m      7\u001b[0m             \u001b[1;32mwith\u001b[0m \u001b[0mcontextlib\u001b[0m\u001b[1;33m.\u001b[0m\u001b[0mredirect_stdout\u001b[0m\u001b[1;33m(\u001b[0m\u001b[0mio\u001b[0m\u001b[1;33m.\u001b[0m\u001b[0mStringIO\u001b[0m\u001b[1;33m(\u001b[0m\u001b[1;33m)\u001b[0m\u001b[1;33m)\u001b[0m\u001b[1;33m:\u001b[0m\u001b[1;33m\u001b[0m\u001b[1;33m\u001b[0m\u001b[0m\n\u001b[1;32m----> 8\u001b[1;33m                 \u001b[0mdf_yh\u001b[0m \u001b[1;33m=\u001b[0m \u001b[0myf\u001b[0m\u001b[1;33m.\u001b[0m\u001b[0mdownload\u001b[0m\u001b[1;33m(\u001b[0m\u001b[0msymbol\u001b[0m\u001b[1;33m,\u001b[0m \u001b[0mperiod\u001b[0m\u001b[1;33m=\u001b[0m\u001b[1;34m'120d'\u001b[0m\u001b[1;33m)\u001b[0m\u001b[1;33m\u001b[0m\u001b[1;33m\u001b[0m\u001b[0m\n\u001b[0m\u001b[0;32m      9\u001b[0m             \u001b[0mrow\u001b[0m \u001b[1;33m=\u001b[0m \u001b[0m_MA_screen\u001b[0m\u001b[1;33m(\u001b[0m\u001b[0msymbol\u001b[0m\u001b[1;33m,\u001b[0m \u001b[0mdf_yh\u001b[0m\u001b[1;33m,\u001b[0m \u001b[0mx\u001b[0m\u001b[1;33m)\u001b[0m\u001b[1;33m\u001b[0m\u001b[1;33m\u001b[0m\u001b[0m\n\u001b[0;32m     10\u001b[0m             \u001b[0mrows\u001b[0m\u001b[1;33m.\u001b[0m\u001b[0mappend\u001b[0m\u001b[1;33m(\u001b[0m\u001b[0mrow\u001b[0m\u001b[1;33m)\u001b[0m\u001b[1;33m\u001b[0m\u001b[1;33m\u001b[0m\u001b[0m\n",
      "\u001b[1;32me:\\python\\lib\\site-packages\\yfinance\\multi.py\u001b[0m in \u001b[0;36mdownload\u001b[1;34m(tickers, start, end, actions, threads, group_by, auto_adjust, back_adjust, progress, period, show_errors, interval, prepost, proxy, rounding, **kwargs)\u001b[0m\n\u001b[0;32m     95\u001b[0m                                    rounding=rounding)\n\u001b[0;32m     96\u001b[0m         \u001b[1;32mwhile\u001b[0m \u001b[0mlen\u001b[0m\u001b[1;33m(\u001b[0m\u001b[0mshared\u001b[0m\u001b[1;33m.\u001b[0m\u001b[0m_DFS\u001b[0m\u001b[1;33m)\u001b[0m \u001b[1;33m<\u001b[0m \u001b[0mlen\u001b[0m\u001b[1;33m(\u001b[0m\u001b[0mtickers\u001b[0m\u001b[1;33m)\u001b[0m\u001b[1;33m:\u001b[0m\u001b[1;33m\u001b[0m\u001b[1;33m\u001b[0m\u001b[0m\n\u001b[1;32m---> 97\u001b[1;33m             \u001b[0m_time\u001b[0m\u001b[1;33m.\u001b[0m\u001b[0msleep\u001b[0m\u001b[1;33m(\u001b[0m\u001b[1;36m0.01\u001b[0m\u001b[1;33m)\u001b[0m\u001b[1;33m\u001b[0m\u001b[1;33m\u001b[0m\u001b[0m\n\u001b[0m\u001b[0;32m     98\u001b[0m \u001b[1;33m\u001b[0m\u001b[0m\n\u001b[0;32m     99\u001b[0m     \u001b[1;31m# download synchronously\u001b[0m\u001b[1;33m\u001b[0m\u001b[1;33m\u001b[0m\u001b[1;33m\u001b[0m\u001b[0m\n",
      "\u001b[1;31mKeyboardInterrupt\u001b[0m: "
     ]
    }
   ],
   "source": [
    "# Scan\n",
    "df = pd.read_csv('..\\data\\in_stockList.csv', sep='[\";\"]', engine='python')  # 174 0:01:55 | 0:03:52\n",
    "stockList = []\n",
    "for i in df.index:\n",
    "    symbolList = df['Symbol'][i]\n",
    "    for x in symbolList.split(','):\n",
    "        stockList.append(x.split(':')[-1])\n",
    "        \n",
    "filename = '\\out_Python_MA.csv'\n",
    "_MA_screen_list(stockList, x, filename)\n",
    "_pickUpDn(limitDay, filename)\n"
   ]
  },
  {
   "cell_type": "code",
   "execution_count": 76,
   "id": "e17174fb",
   "metadata": {},
   "outputs": [
    {
     "name": "stdout",
     "output_type": "stream",
     "text": [
      "AAPL\n",
      "AMGN\n",
      "AXP\n",
      "BA\n",
      "CAT\n",
      "CRM\n"
     ]
    },
    {
     "ename": "KeyboardInterrupt",
     "evalue": "",
     "output_type": "error",
     "traceback": [
      "\u001b[1;31m---------------------------------------------------------------------------\u001b[0m",
      "\u001b[1;31mKeyboardInterrupt\u001b[0m                         Traceback (most recent call last)",
      "\u001b[1;32m<ipython-input-76-4468e100fe07>\u001b[0m in \u001b[0;36m<module>\u001b[1;34m\u001b[0m\n\u001b[0;32m      8\u001b[0m \u001b[1;33m\u001b[0m\u001b[0m\n\u001b[0;32m      9\u001b[0m \u001b[0mfilename\u001b[0m \u001b[1;33m=\u001b[0m \u001b[1;34m'\\out_Python_MA_SP.csv'\u001b[0m\u001b[1;33m\u001b[0m\u001b[1;33m\u001b[0m\u001b[0m\n\u001b[1;32m---> 10\u001b[1;33m \u001b[0m_MA_screen_list\u001b[0m\u001b[1;33m(\u001b[0m\u001b[0mstockList\u001b[0m\u001b[1;33m,\u001b[0m \u001b[0mx\u001b[0m\u001b[1;33m,\u001b[0m \u001b[1;34m'\\out_Python_MA_SP.csv'\u001b[0m\u001b[1;33m)\u001b[0m\u001b[1;33m\u001b[0m\u001b[1;33m\u001b[0m\u001b[0m\n\u001b[0m\u001b[0;32m     11\u001b[0m \u001b[1;31m# _pickUpDn(3, filename)\u001b[0m\u001b[1;33m\u001b[0m\u001b[1;33m\u001b[0m\u001b[1;33m\u001b[0m\u001b[0m\n",
      "\u001b[1;32m<ipython-input-66-2fbfa822da76>\u001b[0m in \u001b[0;36m_MA_screen_list\u001b[1;34m(stockList, x, filename)\u001b[0m\n\u001b[0;32m      6\u001b[0m         \u001b[1;32mtry\u001b[0m\u001b[1;33m:\u001b[0m\u001b[1;33m\u001b[0m\u001b[1;33m\u001b[0m\u001b[0m\n\u001b[0;32m      7\u001b[0m             \u001b[1;32mwith\u001b[0m \u001b[0mcontextlib\u001b[0m\u001b[1;33m.\u001b[0m\u001b[0mredirect_stdout\u001b[0m\u001b[1;33m(\u001b[0m\u001b[0mio\u001b[0m\u001b[1;33m.\u001b[0m\u001b[0mStringIO\u001b[0m\u001b[1;33m(\u001b[0m\u001b[1;33m)\u001b[0m\u001b[1;33m)\u001b[0m\u001b[1;33m:\u001b[0m\u001b[1;33m\u001b[0m\u001b[1;33m\u001b[0m\u001b[0m\n\u001b[1;32m----> 8\u001b[1;33m                 \u001b[0mdf_yh\u001b[0m \u001b[1;33m=\u001b[0m \u001b[0myf\u001b[0m\u001b[1;33m.\u001b[0m\u001b[0mdownload\u001b[0m\u001b[1;33m(\u001b[0m\u001b[0msymbol\u001b[0m\u001b[1;33m,\u001b[0m \u001b[0mperiod\u001b[0m\u001b[1;33m=\u001b[0m\u001b[1;34m'120d'\u001b[0m\u001b[1;33m)\u001b[0m\u001b[1;33m\u001b[0m\u001b[1;33m\u001b[0m\u001b[0m\n\u001b[0m\u001b[0;32m      9\u001b[0m             \u001b[0mrow\u001b[0m \u001b[1;33m=\u001b[0m \u001b[0m_MA_screen\u001b[0m\u001b[1;33m(\u001b[0m\u001b[0msymbol\u001b[0m\u001b[1;33m,\u001b[0m \u001b[0mdf_yh\u001b[0m\u001b[1;33m,\u001b[0m \u001b[0mx\u001b[0m\u001b[1;33m)\u001b[0m\u001b[1;33m\u001b[0m\u001b[1;33m\u001b[0m\u001b[0m\n\u001b[0;32m     10\u001b[0m             \u001b[0mrows\u001b[0m\u001b[1;33m.\u001b[0m\u001b[0mappend\u001b[0m\u001b[1;33m(\u001b[0m\u001b[0mrow\u001b[0m\u001b[1;33m)\u001b[0m\u001b[1;33m\u001b[0m\u001b[1;33m\u001b[0m\u001b[0m\n",
      "\u001b[1;32me:\\python\\lib\\site-packages\\yfinance\\multi.py\u001b[0m in \u001b[0;36mdownload\u001b[1;34m(tickers, start, end, actions, threads, group_by, auto_adjust, back_adjust, progress, period, show_errors, interval, prepost, proxy, rounding, **kwargs)\u001b[0m\n\u001b[0;32m     95\u001b[0m                                    rounding=rounding)\n\u001b[0;32m     96\u001b[0m         \u001b[1;32mwhile\u001b[0m \u001b[0mlen\u001b[0m\u001b[1;33m(\u001b[0m\u001b[0mshared\u001b[0m\u001b[1;33m.\u001b[0m\u001b[0m_DFS\u001b[0m\u001b[1;33m)\u001b[0m \u001b[1;33m<\u001b[0m \u001b[0mlen\u001b[0m\u001b[1;33m(\u001b[0m\u001b[0mtickers\u001b[0m\u001b[1;33m)\u001b[0m\u001b[1;33m:\u001b[0m\u001b[1;33m\u001b[0m\u001b[1;33m\u001b[0m\u001b[0m\n\u001b[1;32m---> 97\u001b[1;33m             \u001b[0m_time\u001b[0m\u001b[1;33m.\u001b[0m\u001b[0msleep\u001b[0m\u001b[1;33m(\u001b[0m\u001b[1;36m0.01\u001b[0m\u001b[1;33m)\u001b[0m\u001b[1;33m\u001b[0m\u001b[1;33m\u001b[0m\u001b[0m\n\u001b[0m\u001b[0;32m     98\u001b[0m \u001b[1;33m\u001b[0m\u001b[0m\n\u001b[0;32m     99\u001b[0m     \u001b[1;31m# download synchronously\u001b[0m\u001b[1;33m\u001b[0m\u001b[1;33m\u001b[0m\u001b[1;33m\u001b[0m\u001b[0m\n",
      "\u001b[1;31mKeyboardInterrupt\u001b[0m: "
     ]
    }
   ],
   "source": [
    "from pandas import DataFrame\n",
    "from pytickersymbols import PyTickerSymbols\n",
    "\n",
    "stock_data = PyTickerSymbols()\n",
    "lst = stock_data.get_stocks_by_index('DOW JONES')  # NASDAQ 100 [98 x 10] 06:48 | S&P 500 [491 x 10] 10:34 | DOW JONES 30 04:24\n",
    "df = DataFrame(lst)\n",
    "stockList = df['symbol'].tolist()  # get list from a column\n",
    "\n",
    "filename = '\\out_Python_MA_SP.csv'\n",
    "_MA_screen_list(stockList, x, filename)\n",
    "# _pickUpDn(3, filename)"
   ]
  },
  {
   "cell_type": "code",
   "execution_count": 60,
   "id": "90791a59",
   "metadata": {},
   "outputs": [
    {
     "name": "stdout",
     "output_type": "stream",
     "text": [
      "['QS', '+1', '-63']\n"
     ]
    }
   ],
   "source": [
    "# 1 symbol\n",
    "import contextlib\n",
    "import io\n",
    "\n",
    "import pandas as pd\n",
    "import yfinance as yf\n",
    "\n",
    "yf.pdr_override()\n",
    "pd.options.mode.chained_assignment = None  # default='warn'\n",
    "\n",
    "symbol = 'QS'\n",
    "with contextlib.redirect_stdout(io.StringIO()):\n",
    "#     df_yh = yf.download(symbol, period=\"120d\")\n",
    "    df_yh = yf.download(symbol, period=\"20d\", interval=\"1h\")\n",
    "print(_MA_screen(symbol, df_yh, 20))\n"
   ]
  },
  {
   "cell_type": "code",
   "execution_count": null,
   "id": "04fbb1a0",
   "metadata": {},
   "outputs": [],
   "source": []
  }
 ],
 "metadata": {
  "kernelspec": {
   "display_name": "Python 3",
   "language": "python",
   "name": "python3"
  },
  "language_info": {
   "codemirror_mode": {
    "name": "ipython",
    "version": 3
   },
   "file_extension": ".py",
   "mimetype": "text/x-python",
   "name": "python",
   "nbconvert_exporter": "python",
   "pygments_lexer": "ipython3",
   "version": "3.9.4"
  }
 },
 "nbformat": 4,
 "nbformat_minor": 5
}
