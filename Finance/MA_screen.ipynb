{
 "cells": [
  {
   "cell_type": "code",
   "execution_count": null,
   "id": "ba6da0b5",
   "metadata": {},
   "outputs": [],
   "source": [
    "def _MA_screen(df, x):\n",
    "    df['SMA'] = round(df['Adj Close'].rolling(window=x).mean(), 2)  # Simple Moving Average\n",
    "\n",
    "    # TEMA triple exponential moving average | EMA Exponential Moving Average\n",
    "    df['EMA1'] = round(df['Adj Close'].ewm(span=x, adjust=False).mean(), 2)\n",
    "    df['EMA2'] = round(df['EMA1'].ewm(span=x, adjust=False).mean(), 2)\n",
    "    df['EMA3'] = round(df['EMA2'].ewm(span=x, adjust=False).mean(), 2)\n",
    "    df['TEMA'] = 3 * (df['EMA1'] - df['EMA2']) + df['EMA3']\n",
    "\n",
    "    # up/down from previous 2 days\n",
    "    df['SMA_2'] = df.SMA.shift(2)\n",
    "    df['TEMA_2'] = df.TEMA.shift(2)\n",
    "    df['SMA_up'] = df.apply(lambda x: '+' if x['SMA'] >= x['SMA_2'] else '-', axis=1)\n",
    "    df['TEMA_up'] = df.apply(lambda x: '+' if x['TEMA'] >= x['TEMA_2'] else '-', axis=1)\n",
    "\n",
    "    # reverse up/down\n",
    "    df['SMA_up_1'] = df.SMA_up.shift(1)\n",
    "    df['TEMA_up_1'] = df.TEMA_up.shift(1)\n",
    "    df = df.dropna(subset=['SMA', 'SMA_2', 'TEMA', 'TEMA_2', 'SMA_up_1', 'TEMA_up_1'])\n",
    "    df['SMA_up_rev'] = df.apply(lambda x: x['SMA_up'] if x['SMA_up'] != x['SMA_up_1'] else '', axis=1)\n",
    "    df['TEMA_up_rev'] = df.apply(lambda x: x['TEMA_up'] if x['TEMA_up'] != x['TEMA_up_1'] else '', axis=1)\n",
    "\n",
    "    SMA_seq = ''\n",
    "    TEMA_seq = ''\n",
    "    seq = 0\n",
    "    for i in df.index[::-1]:  # look backwards\n",
    "        seq += 1\n",
    "        if bool(SMA_seq) & bool(TEMA_seq):\n",
    "            break\n",
    "        if (not SMA_seq) & bool(df['SMA_up_rev'][i]):\n",
    "            SMA_seq = df['SMA_up_rev'][i] + str(seq)\n",
    "        if (not TEMA_seq) & bool(df['TEMA_up_rev'][i]):\n",
    "            TEMA_seq = df['TEMA_up_rev'][i] + str(seq)\n",
    "    return [TEMA_seq, SMA_seq]"
   ]
  },
  {
   "cell_type": "code",
   "execution_count": null,
   "id": "90791a59",
   "metadata": {},
   "outputs": [],
   "source": [
    "# test _MA_screen with 1 symbol\n",
    "import contextlib\n",
    "import io\n",
    "\n",
    "import pandas as pd\n",
    "import yfinance as yf\n",
    "\n",
    "yf.pdr_override()\n",
    "pd.options.mode.chained_assignment = None  # default='warn'\n",
    "\n",
    "with contextlib.redirect_stdout(io.StringIO()):\n",
    "    df_yh = yf.download('NVDA', period=\"120d\")\n",
    "    # df_yh = yf.download('NVDA', period=\"20d\", interval=\"1h\")\n",
    "    \n",
    "_MA_screen(df_yh, 20)"
   ]
  },
  {
   "cell_type": "code",
   "execution_count": null,
   "id": "f3eac826",
   "metadata": {},
   "outputs": [],
   "source": [
    "import contextlib\n",
    "import io\n",
    "\n",
    "import pandas as pd\n",
    "import yfinance as yf\n",
    "\n",
    "yf.pdr_override()\n",
    "pd.options.mode.chained_assignment = None  # default='warn'\n",
    "\n",
    "def _MA_screen_list(stockList, x):\n",
    "    stockList = list(set(stockList))  # make elements unique\n",
    "    stockList = sorted(stockList)\n",
    "    rows = []\n",
    "    for symbol in stockList:\n",
    "        try:\n",
    "            with contextlib.redirect_stdout(io.StringIO()):\n",
    "                df_yh = yf.download(symbol, period=\"120d\")\n",
    "                # df_yh = yf.download(symbol, period=\"20d\", interval=\"1h\")\n",
    "            row = _MA_screen(df_yh, x)\n",
    "            row.append(symbol)\n",
    "            rows.append(row)\n",
    "        except Exception:\n",
    "            print(symbol)\n",
    "    out_df = pd.DataFrame(rows, columns=['TEMA_seq', 'SMA_seq', 'symbol'])\n",
    "\n",
    "    out_df.TEMA_seq = out_df.TEMA_seq.astype(float)\n",
    "    out_df.SMA_seq = out_df.SMA_seq.astype(float)\n",
    "    out_df = out_df.sort_values(by=['TEMA_seq', 'SMA_seq'], ascending=False)\n",
    "\n",
    "    print(out_df)"
   ]
  },
  {
   "cell_type": "code",
   "execution_count": null,
   "id": "0d92beb4",
   "metadata": {},
   "outputs": [],
   "source": [
    "stockList = ['ABNB', 'SPCE']\n",
    "_MA_screen_list(stockList, 20)"
   ]
  },
  {
   "cell_type": "code",
   "execution_count": null,
   "id": "e17174fb",
   "metadata": {},
   "outputs": [],
   "source": [
    "# Scan index companies\n",
    "from pandas import DataFrame\n",
    "from pytickersymbols import PyTickerSymbols\n",
    "\n",
    "stock_data = PyTickerSymbols()\n",
    "lst = stock_data.get_stocks_by_index('DOW JONES')  # DOW JONES | S&P 500 | NASDAQ 100\n",
    "df = DataFrame(lst)\n",
    "stockList = df['symbol'].tolist()  # get list from a column\n",
    "\n",
    "_MA_screen_list(stockList, 20)"
   ]
  }
 ],
 "metadata": {
  "kernelspec": {
   "display_name": "Python 3",
   "language": "python",
   "name": "python3"
  },
  "language_info": {
   "codemirror_mode": {
    "name": "ipython",
    "version": 3
   },
   "file_extension": ".py",
   "mimetype": "text/x-python",
   "name": "python",
   "nbconvert_exporter": "python",
   "pygments_lexer": "ipython3",
   "version": "3.9.4"
  }
 },
 "nbformat": 4,
 "nbformat_minor": 5
}
